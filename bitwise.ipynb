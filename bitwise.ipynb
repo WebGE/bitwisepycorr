{
 "cells": [
  {
   "cell_type": "markdown",
   "metadata": {},
   "source": [
    "# Opération sur les bits en Python - <span style=\"color:blue;\">CORRECTION</span>"
   ]
  },
  {
   "cell_type": "markdown",
   "metadata": {},
   "source": [
    "**Ressources** : <a href=\"https://webge.synology.me/dokuwiki/doku.php?id=python:accueilpython\" target=\"_blank\"><input type=\"button\" value=\"Wiki Python sur WebGE\"></a> <a href=\"https://webge.synology.me/dokuwiki/doku.php?id=python:bases:chaines#quelques_methodes_de_la_classe_str\" target=\"_blank\"><input type=\"button\" value=\"Les chaînes de caractères en Python\"></a>"
   ]
  },
  {
   "cell_type": "markdown",
   "metadata": {},
   "source": [
    "## 1. Présentation\n",
    "Python dispose d'opérateurs <strong>bit-à-bit</strong> (bitwise) qui agissent directement sur les nombres au niveau des <em>bits</em>. \n",
    "\n",
    "Ces opérateurs sont au nombre de six :<br>\n",
    "<img src=\"img/ET.png\" style=\"float:right\">\n",
    "'<strong>&</strong>': ET. <br>\n",
    "'<strong>|</strong>': OU.  <br>\n",
    "'<strong>^</strong>': OU EXCLUSIF.  <br>\n",
    "'<strong>~</strong>': INVERSION des bits du nombre situé à droite.  <br>\n",
    "'<strong>»</strong>': DECALAGE d'un bit à DROITE (correspond à une division par 2)  <br>\n",
    "'<strong>«</strong>': DECALAGE d'un bit à GAUCHE (correspond à une multiplication par 2)  <br>"
   ]
  },
  {
   "cell_type": "code",
   "execution_count": null,
   "metadata": {},
   "outputs": [],
   "source": [
    "# Exemple\n",
    "bin(0b0101 & 0b1100) #0b identifie la valeur qui suit comme étant un nombre binaire"
   ]
  },
  {
   "cell_type": "markdown",
   "metadata": {},
   "source": [
    "<table>\n",
    "    <tr>\n",
    "        <td><img src=\"img/remarquemin.png\" width=\"30px\"></td>\n",
    "        <td><p style=\"font-size:14px;\"><strong>Comme on le voit ci-dessus, Python n'affiche les <em>bits</em> d'un nombre binaire qu'à partir du premier <em>bit</em> non nul.</strong></p></td>\n",
    "    </tr>\n",
    "</table>   "
   ]
  },
  {
   "cell_type": "markdown",
   "metadata": {},
   "source": [
    "## 2. Problème à résoudre\n",
    "**Source**: <a href=\"https://www.editions-ellipses.fr/accueil/118-specialite-numerique-et-sciences-informatiques-30-lecons-avec-exercices-corriges-premiere-nouveaux-programmes-9782340033641.html\" target=\"_blank\">Numérique et sciences informatiques 1<sup>er</sup>- Ellipses</a> \n",
    "\n",
    "**Enoncé** : Ecrire un programme Python qui affiche la table d'une des opérations logiques (ET, OU, OU-EXCLUSIF) pour tous les entiers de <em>n bits</em>. <br> \n",
    "\n",
    "<em>Exemple</em> <br>\n",
    "\n",
    "Pour l'opération **ET** logique et **n = 2**, le programme devra afficher :\n",
    "\n",
    "<table style=\"text-align:center; font-size:14px;\">\n",
    "    <tr>\n",
    "        <td>00 01 10 11</td>\n",
    "    </tr>\n",
    "    <tr>\n",
    "        <td>00 <strong>00 00 00 00</strong></td>\n",
    "    </tr>\n",
    "    <tr>\n",
    "        <td>01 <strong>00 01 00 01</strong></td>\n",
    "    </tr>\n",
    "    <tr>\n",
    "        <td>10 <strong>00 00 10 10</strong></td>\n",
    "    </tr>\n",
    "    <tr>\n",
    "        <td>11 <strong>00 01 10 11</strong></td>\n",
    "    </tr>\n",
    "    \n",
    "</table>\n",
    "\n",
    "<span style=\"color:red\">On se limitera à n = 3 pour les tests</span>.<br>"
   ]
  },
  {
   "cell_type": "markdown",
   "metadata": {},
   "source": [
    "### 2.1 Algorithmique"
   ]
  },
  {
   "cell_type": "markdown",
   "metadata": {},
   "source": [
    "> **Activité 1. Proposez** un algorithme affichant uniquement les résultats d'une table ET pour n = 2  (**valeurs en gras** dans la table ci-dessus) . "
   ]
  },
  {
   "cell_type": "raw",
   "metadata": {},
   "source": [
    "Algorithme TablesLogique\n",
    "Variables\n",
    "n : entier                # nombre de bits des valeurs à traiter\n",
    "ligneTable : vecteur vide # ligne dans la table\n",
    "\n",
    "début\n",
    "    Pour i variant de 0 à 3 faire                      # on remplace 3 par 2^n-1 pour généraliser à n\n",
    "        Pour j variant de 0 à 3 faire                  # on remplace 3 par 2^n-1 pour généraliser à n\n",
    "            Ajouter la représentation binaire de (i ET j) dans ligneTable\n",
    "        fin pour\n",
    "        Afficher ligneTable\n",
    "        vider ligneTable\n",
    "    fin pour\n",
    "fin"
   ]
  },
  {
   "cell_type": "markdown",
   "metadata": {},
   "source": [
    "### 2.2 Codage"
   ]
  },
  {
   "cell_type": "markdown",
   "metadata": {},
   "source": [
    "On propose de produire quatre versions du programme. Celles-ci sont décrites dans les activités 2 à 5 ci-dessous."
   ]
  },
  {
   "cell_type": "markdown",
   "metadata": {},
   "source": [
    "> **Activité 2.** La **version 1** du programme affiche uniquement les résultats de l'opération ET avec n=2.\n",
    "\n",
    "<em>Résultat attendu</em>\n",
    "\n",
    "['0b0', '0b0', '0b0', '0b0']\n",
    "\n",
    "['0b0', '0b1', '0b0', '0b1']\n",
    "\n",
    "['0b0', '0b0', '0b10', '0b10']\n",
    "\n",
    "['0b0', '0b1', '0b10', '0b11']"
   ]
  },
  {
   "cell_type": "code",
   "execution_count": null,
   "metadata": {},
   "outputs": [],
   "source": [
    "# Version 1\n",
    "# A compléter\n",
    "\n",
    "ligne=[] # ligne dans la table\n",
    "\n",
    "for i in range (4):\n",
    "    for j in range(4):\n",
    "        ligne.append(bin(i&j))\n",
    "    print(ligne)\n",
    "    ligne.clear()"
   ]
  },
  {
   "cell_type": "markdown",
   "metadata": {},
   "source": [
    "> **Activité 3.** Dans la **version 2** du programme (à coder en reprenant la version 1), les nombres s'affichent avec n chiffres (opération ET, n=2)\n",
    "\n",
    "<em>Résultat attendu</em>\n",
    "\n",
    "['00', '00', '00', '00']\n",
    "\n",
    "['00', '01', '00', '01']\n",
    "\n",
    "['00', '00', '10', '10']\n",
    "\n",
    "['00', '01', '10', '11']"
   ]
  },
  {
   "cell_type": "code",
   "execution_count": null,
   "metadata": {},
   "outputs": [],
   "source": [
    "# Version 2 \n",
    "# A compléter\n",
    "\n",
    "ligne=[] # ligne dans la table\n",
    "\n",
    "for i in range (4):\n",
    "    for j in range(4):\n",
    "        resultat = bin(i&j)[2:]\n",
    "        ligne.append(resultat.zfill(2))\n",
    "    print(ligne)\n",
    "    ligne.clear()"
   ]
  },
  {
   "cell_type": "markdown",
   "metadata": {},
   "source": [
    "> **Activité 4.** Dans sa **version 3** (à coder en reprenant la version 2), le programme affiche une table ET de 3 bits et présente les valeurs à traiter sur la première ligne et la première colonne de la table. \n",
    "\n",
    "<em>Résultat attendu (partiel) pour n=3</em>\n",
    "\n",
    "['___', '000', '001', '010', '011', '100', '101', '110', '111']\n",
    "\n",
    "['000', '000', '000', '000', '000', '000', '000', '000', '000']\n",
    "\n",
    "['001', '000', '001', '000', '001', '000', '001', '000', '001']\n",
    "\n",
    "['010', '000', '000', '010', '010', '000', '000', '010', '010']\n",
    "\n",
    "etc."
   ]
  },
  {
   "cell_type": "code",
   "execution_count": null,
   "metadata": {},
   "outputs": [],
   "source": [
    "# Version 3\n",
    "# A compléter\n",
    "\n",
    "ligne=[] # ligne dans la table\n",
    "n=3 # nombre de bits des valeurs à traiter\n",
    "\n",
    "for i in range (pow(2,n)+1):\n",
    "    for j in range(pow(2,n)+1):\n",
    "        if i==0:\n",
    "            if j==0:\n",
    "                ligne.append(n*\"_\")\n",
    "            else:\n",
    "                ligne.append(bin(j-1)[2:].zfill(n))\n",
    "        else:\n",
    "            if j==0:\n",
    "                ligne.append(bin(i-1)[2:].zfill(n))\n",
    "            else:\n",
    "                resultat = bin(i-1&j-1)[2:]\n",
    "                ligne.append(resultat.zfill(n))\n",
    "    print(ligne)\n",
    "    ligne.clear()"
   ]
  },
  {
   "cell_type": "markdown",
   "metadata": {},
   "source": [
    "> **Activité 5.** Dans sa **version 4** (à coder en reprenant la version 3), le programme traite les opérations ET, OU et OU-EXCLUSIF. Le choix de l'opération se fait à l'aide d'une variable _operation_.\n",
    "\n",
    "<em>Résultat attendu (partiel) pour n=3, l' opération est un OU-EXCLUSIF</em>\n",
    "\n",
    "OU-EXCLUSIF bit-à-bit\n",
    "\n",
    "['___', '000', '001', '010', '011', '100', '101', '110', '111']\n",
    "\n",
    "['000', '000', '001', '010', '011', '100', '101', '110', '111']\n",
    "\n",
    "['001', '001', '000', '011', '010', '101', '100', '111', '110']\n",
    "\n",
    "etc."
   ]
  },
  {
   "cell_type": "code",
   "execution_count": null,
   "metadata": {},
   "outputs": [],
   "source": [
    "# Version 4\n",
    "\n",
    "operation=2 # opération à traiter (0->&, 1->|, 2->^)\n",
    "\n",
    "# A compléter\n",
    "ligne=[] # ligne dans la table\n",
    "n=3 # nombre de bits des valeurs à traiter\n",
    "\n",
    "\n",
    "if operation==0:\n",
    "    print(\"ET bit-à-bit\")\n",
    "elif operation==1:\n",
    "    print(\"OU bit-à-bit\")\n",
    "elif operation==2:\n",
    "    print(\"OU-EXCLUSIF bit-à-bit\")\n",
    "    \n",
    "for i in range (pow(2,n)+1):\n",
    "    for j in range(pow(2,n)+1):\n",
    "        if i==0:\n",
    "            if j==0:\n",
    "                ligne.append(n*\"_\")\n",
    "            else:\n",
    "                ligne.append(bin(j-1)[2:].zfill(n))\n",
    "        else:\n",
    "            if j==0:\n",
    "                ligne.append(bin(i-1)[2:].zfill(n))\n",
    "            else:\n",
    "                if operation==0:\n",
    "                    resultat = bin(i-1&j-1)[2:]\n",
    "                elif operation==1:\n",
    "                    resultat = bin(i-1|j-1)[2:]\n",
    "                elif operation==2:\n",
    "                    resultat = bin(i-1^j-1)[2:]\n",
    "                ligne.append(resultat.zfill(n))\n",
    "    print(ligne)\n",
    "    ligne.clear()"
   ]
  },
  {
   "cell_type": "code",
   "execution_count": null,
   "metadata": {},
   "outputs": [],
   "source": []
  }
 ],
 "metadata": {
  "kernelspec": {
   "display_name": "Python 3",
   "language": "python",
   "name": "python3"
  },
  "language_info": {
   "codemirror_mode": {
    "name": "ipython",
    "version": 3
   },
   "file_extension": ".py",
   "mimetype": "text/x-python",
   "name": "python",
   "nbconvert_exporter": "python",
   "pygments_lexer": "ipython3",
   "version": "3.8.5"
  }
 },
 "nbformat": 4,
 "nbformat_minor": 4
}
